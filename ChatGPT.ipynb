{
  "nbformat": 4,
  "nbformat_minor": 0,
  "metadata": {
    "colab": {
      "provenance": [],
      "authorship_tag": "ABX9TyPrZ6SBpHMSXpopaPBKnm4r",
      "include_colab_link": true
    },
    "kernelspec": {
      "name": "python3",
      "display_name": "Python 3"
    },
    "language_info": {
      "name": "python"
    }
  },
  "cells": [
    {
      "cell_type": "markdown",
      "metadata": {
        "id": "view-in-github",
        "colab_type": "text"
      },
      "source": [
        "<a href=\"https://colab.research.google.com/github/Ul-tima/ChatGPTCoverLetter/blob/main/ChatGPT.ipynb\" target=\"_parent\"><img src=\"https://colab.research.google.com/assets/colab-badge.svg\" alt=\"Open In Colab\"/></a>"
      ]
    },
    {
      "cell_type": "code",
      "source": [
        "!pip install  --quiet openai python-dotenv gradio"
      ],
      "metadata": {
        "id": "lyeIM8jC_kha"
      },
      "execution_count": 1,
      "outputs": []
    },
    {
      "cell_type": "code",
      "source": [
        "from google.colab import drive\n",
        "drive.mount(\"/content/gdrive\", force_remount=True)\n",
        "\n",
        "%cd /content/gdrive/MyDrive/ChatGPT/"
      ],
      "metadata": {
        "colab": {
          "base_uri": "https://localhost:8080/"
        },
        "id": "hxq10UItDUpC",
        "outputId": "4427e670-f653-4fbb-9b48-106192c55148"
      },
      "execution_count": 2,
      "outputs": [
        {
          "output_type": "stream",
          "name": "stdout",
          "text": [
            "Mounted at /content/gdrive\n",
            "/content/gdrive/MyDrive/ChatGPT\n"
          ]
        }
      ]
    },
    {
      "cell_type": "code",
      "execution_count": 4,
      "metadata": {
        "id": "EJ-cUnLw8-np"
      },
      "outputs": [],
      "source": [
        "import openai\n",
        "import os\n",
        "import re\n",
        "import urllib.request\n",
        "from urllib.parse import urlparse\n",
        "from bs4 import BeautifulSoup\n",
        "\n",
        "\n",
        "from dotenv import load_dotenv, find_dotenv\n",
        "_ = load_dotenv(find_dotenv())\n",
        "\n",
        "openai.api_key  = os.getenv('OPENAI_API_KEY')"
      ]
    },
    {
      "cell_type": "code",
      "source": [
        "def get_completion(prompt, model=\"gpt-3.5-turbo\", temperature=0.7):\n",
        "    messages = [{\"role\": \"user\", \"content\": prompt}]\n",
        "    response = openai.ChatCompletion.create(\n",
        "        model=model,\n",
        "        messages=messages,\n",
        "        temperature=temperature,\n",
        "    )\n",
        "    return response.choices[0].message[\"content\"]"
      ],
      "metadata": {
        "id": "5ps9GugaC3Mo"
      },
      "execution_count": 5,
      "outputs": []
    },
    {
      "cell_type": "code",
      "source": [
        "class Job:\n",
        "  def __init__(self, url):\n",
        "    response = urllib.request.urlopen(url)\n",
        "    self.soup = BeautifulSoup(response,'html.parser',\n",
        "                         from_encoding=response.info().get_param('charset'))\n",
        "    self.title = self.soup.find('div', class_='detail--title-wrapper').get_text().strip()\n",
        "    self.company = self.soup.find('a', class_='job-details--title').get_text().strip()\n",
        "    self.recruiter = self.soup.find('a', class_='job-details--recruiter-name').get_text().strip()\n",
        "    self.description = self.soup.find('div', class_='profile-page-section').get_text().strip()\n"
      ],
      "metadata": {
        "id": "Q0xeqSByOXR4"
      },
      "execution_count": 11,
      "outputs": []
    },
    {
      "cell_type": "code",
      "source": [
        "class CoverLetter:\n",
        "    def __init__(self, cv, description, recruiter='', title='', company=''):\n",
        "        self.response=None\n",
        "        self.creativity=0.7\n",
        "        self.cv = cv\n",
        "        self.description = description\n",
        "        self.recruiter = recruiter\n",
        "        self.title = title\n",
        "        self.company = company\n",
        "\n",
        "    def set_creativity(self, value):\n",
        "        if value <=1 and value >0:\n",
        "          self.creativity=value\n",
        "        else:\n",
        "          print(\"Creativity indicator should be between 0 and 1. Recommended values are in the range of 0.5-0.7\")\n",
        "\n",
        "    def generete(self):\n",
        "        prompt = f\"\"\"\n",
        "        Write a cover letter with only 200 words in English to recruter {self.recruiter} using the next instructions:\n",
        "        1. Read my CV and job description which are delimited with triple backticks.\n",
        "        2. Define company name, project description, responsibilities and requirements for {self.title} position.\n",
        "        3. Determine which technologies and skills are needed in the job description and indicated in the CV.\n",
        "        4. Choose the most relevant duties and experience at work and during other projects based on a comparison of those indicated in the vacancy and in the CV.\n",
        "        5. Based on previous steps write a cover letter. \\\n",
        "        Instead of repeating details from CV, summarize a specific story that explains why candidate is right for the role. \\\n",
        "        Write in a professional, friendly and upbeat tone. \\\n",
        "        Make it short.\n",
        "        6. Show only cover letter.\n",
        "        CV: '''{self.cv}'''\n",
        "        Job description: '''{self.description}'''\n",
        "        \"\"\"\n",
        "        self.response = get_completion(prompt, temperature = self.creativity)\n",
        "        return self.response\n",
        "\n",
        "    def save_to_file(self, filename=None):\n",
        "        if filename is None:\n",
        "          filename =\" \".join([\"letter\", self.title, self.company,\".txt\"] )\n",
        "        filename = re.sub(r'[\\\\/*?:\"<> |]',\"_\",filename)\n",
        "        with open(filename, 'a') as f:\n",
        "            f.write('\\n\\n')\n",
        "            f.write(self.response)"
      ],
      "metadata": {
        "id": "Qb3UUwJjtzwa"
      },
      "execution_count": 14,
      "outputs": []
    },
    {
      "cell_type": "code",
      "source": [
        "cv = open(\"Julia_Pikovets_DS.txt\", \"r\").read()\n",
        "\n",
        "url = 'https://djinni.co/jobs/572624-chatgpt-openai-rd-engineer-data-science-/'\n",
        "job = Job(url)\n",
        "\n",
        "cover_letter = CoverLetter(cv, job.description, job.recruiter, job.title, job.company)\n",
        "cover_letter.generete()\n",
        "cover_letter.save_to_file()"
      ],
      "metadata": {
        "id": "AuBSnDR4rXoG"
      },
      "execution_count": 15,
      "outputs": []
    },
    {
      "cell_type": "code",
      "source": [
        "import gradio as gr\n",
        "\n",
        "\n",
        "def generate(CV, url, creativity):\n",
        "    job = Job(url)\n",
        "    cover_letter = CoverLetter(CV, job.description, job.recruiter, job.title, job.company)\n",
        "    cover_letter.set_creativity(creativity)\n",
        "    letter = cover_letter.generete()\n",
        "    cover_letter.save_to_file()\n",
        "    return letter\n",
        "\n",
        "demo = gr.Interface(\n",
        "    fn=generate,\n",
        "    inputs=[gr.Textbox(lines=10, placeholder=\"CV here...\"), gr.Textbox(lines=1, placeholder=\"Link to the job on Djinni\"), gr.Slider(0.1, 1, 0.7)],\n",
        "    outputs=gr.outputs.Textbox(label=\"Cover Letter\"),\n",
        "    allow_flagging=\"never\",\n",
        "    title = 'Cover Letter Generator',\n",
        "    description='The demo utilizes ChatGPT to generate cover letter on a CV and a URL for the job description on the Djinni website'\n",
        "\n",
        ")\n",
        "\n",
        "demo.launch(share=True)"
      ],
      "metadata": {
        "id": "mZG8Bys5PcIQ",
        "outputId": "9b705ecf-8ddd-425d-b74c-ced5fef25603",
        "colab": {
          "base_uri": "https://localhost:8080/",
          "height": 648
        }
      },
      "execution_count": 23,
      "outputs": [
        {
          "output_type": "stream",
          "name": "stderr",
          "text": [
            "/usr/local/lib/python3.10/dist-packages/gradio/outputs.py:22: UserWarning: Usage of gradio.outputs is deprecated, and will not be supported in the future, please import your components from gradio.components\n",
            "  warnings.warn(\n"
          ]
        },
        {
          "output_type": "stream",
          "name": "stdout",
          "text": [
            "Colab notebook detected. To show errors in colab notebook, set debug=True in launch()\n",
            "Running on public URL: https://a0fbd21b56281f5799.gradio.live\n",
            "\n",
            "This share link expires in 72 hours. For free permanent hosting and GPU upgrades, run `gradio deploy` from Terminal to deploy to Spaces (https://huggingface.co/spaces)\n"
          ]
        },
        {
          "output_type": "display_data",
          "data": {
            "text/plain": [
              "<IPython.core.display.HTML object>"
            ],
            "text/html": [
              "<div><iframe src=\"https://a0fbd21b56281f5799.gradio.live\" width=\"100%\" height=\"500\" allow=\"autoplay; camera; microphone; clipboard-read; clipboard-write;\" frameborder=\"0\" allowfullscreen></iframe></div>"
            ]
          },
          "metadata": {}
        },
        {
          "output_type": "execute_result",
          "data": {
            "text/plain": []
          },
          "metadata": {},
          "execution_count": 23
        }
      ]
    },
    {
      "cell_type": "code",
      "source": [],
      "metadata": {
        "id": "_15PHiusDxXy"
      },
      "execution_count": null,
      "outputs": []
    }
  ]
}