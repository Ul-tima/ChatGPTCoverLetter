{
  "nbformat": 4,
  "nbformat_minor": 0,
  "metadata": {
    "colab": {
      "provenance": [],
      "authorship_tag": "ABX9TyNoARZNR0NWpz8itGVxDbQ5",
      "include_colab_link": true
    },
    "kernelspec": {
      "name": "python3",
      "display_name": "Python 3"
    },
    "language_info": {
      "name": "python"
    }
  },
  "cells": [
    {
      "cell_type": "markdown",
      "metadata": {
        "id": "view-in-github",
        "colab_type": "text"
      },
      "source": [
        "<a href=\"https://colab.research.google.com/github/Ul-tima/ChatGPTCoverLetter/blob/main/ChatGPT.ipynb\" target=\"_parent\"><img src=\"https://colab.research.google.com/assets/colab-badge.svg\" alt=\"Open In Colab\"/></a>"
      ]
    },
    {
      "cell_type": "code",
      "source": [
        "!pip install  --quiet openai python-dotenv"
      ],
      "metadata": {
        "id": "lyeIM8jC_kha"
      },
      "execution_count": 1,
      "outputs": []
    },
    {
      "cell_type": "code",
      "source": [
        "from google.colab import drive\n",
        "drive.mount(\"/content/gdrive\", force_remount=True)\n",
        "\n",
        "%cd /content/gdrive/MyDrive/ChatGPT/"
      ],
      "metadata": {
        "colab": {
          "base_uri": "https://localhost:8080/"
        },
        "id": "hxq10UItDUpC",
        "outputId": "38446009-5540-4c73-bc73-3af0bfda85b3"
      },
      "execution_count": 2,
      "outputs": [
        {
          "output_type": "stream",
          "name": "stdout",
          "text": [
            "Mounted at /content/gdrive\n",
            "/content/gdrive/MyDrive/ChatGPT\n"
          ]
        }
      ]
    },
    {
      "cell_type": "code",
      "execution_count": 8,
      "metadata": {
        "id": "EJ-cUnLw8-np"
      },
      "outputs": [],
      "source": [
        "import openai\n",
        "import os\n",
        "import urllib.request\n",
        "from urllib.parse import urlparse\n",
        "from bs4 import BeautifulSoup\n",
        "\n",
        "\n",
        "from dotenv import load_dotenv, find_dotenv\n",
        "_ = load_dotenv(find_dotenv())\n",
        "\n",
        "openai.api_key  = os.getenv('OPENAI_API_KEY')"
      ]
    },
    {
      "cell_type": "code",
      "source": [
        "def get_completion(prompt, model=\"gpt-3.5-turbo\", temperature=0.7):\n",
        "    messages = [{\"role\": \"user\", \"content\": prompt}]\n",
        "    response = openai.ChatCompletion.create(\n",
        "        model=model,\n",
        "        messages=messages,\n",
        "        temperature=temperature,\n",
        "    )\n",
        "    return response.choices[0].message[\"content\"]"
      ],
      "metadata": {
        "id": "5ps9GugaC3Mo"
      },
      "execution_count": 47,
      "outputs": []
    },
    {
      "cell_type": "code",
      "source": [
        "cv = open(\"Julia_Pikovets_DS.txt\", \"r\").read()"
      ],
      "metadata": {
        "id": "DhzslkwSHEvr"
      },
      "execution_count": 10,
      "outputs": []
    },
    {
      "cell_type": "code",
      "source": [
        "url = 'https://djinni.co/jobs/572624-chatgpt-openai-rd-engineer-data-science-/'"
      ],
      "metadata": {
        "id": "QrN76snLKCqX"
      },
      "execution_count": 11,
      "outputs": []
    },
    {
      "cell_type": "code",
      "source": [
        "response = urllib.request.urlopen(url)\n",
        "soup = BeautifulSoup(response,'html.parser',\n",
        "                         from_encoding=response.info().get_param('charset'))\n",
        "\n"
      ],
      "metadata": {
        "id": "zZLLzVxaM5kJ"
      },
      "execution_count": 12,
      "outputs": []
    },
    {
      "cell_type": "code",
      "source": [
        "if soup.find('div', class_='detail--title-wrapper'):\n",
        "    title = soup.find('div', class_='detail--title-wrapper').get_text().strip()\n",
        "    print(\"Title: \", title)\n",
        "if soup.find('a', class_='job-details--title'):\n",
        "    company = soup.find('a', class_='job-details--title').get_text().strip()\n",
        "    print(\"Company: \", company)\n",
        "if soup.find('a', class_='job-details--recruiter-name'):\n",
        "    recruiter = soup.find('a', class_='job-details--recruiter-name').get_text().strip()\n",
        "    print(\"Recruiter: \", recruiter)\n",
        "if soup.find(\"meta\", attrs={\"name\": \"description\"}):\n",
        "    vacancy = soup.find('div', class_='profile-page-section').get_text().strip()\n",
        "    print(\"Description :\\n\", vacancy)"
      ],
      "metadata": {
        "colab": {
          "base_uri": "https://localhost:8080/"
        },
        "id": "Q0xeqSByOXR4",
        "outputId": "67f7208a-acc2-4106-e5bf-c22ecc2e1506"
      },
      "execution_count": 13,
      "outputs": [
        {
          "output_type": "stream",
          "name": "stdout",
          "text": [
            "Title:  ChatGPT/OpenAI RD Engineer (Data Science)\n",
            "Company:  Thelassa.fun\n",
            "Recruiter:  Yulia Chayka, It Recruiter\n",
            "Description :\n",
            " Наша компанія у пошуках спеціаліста, який допоможе нам реалізувати нові юзкейси на основі генеративних моделей. Шукаємо спеціаліста, який зацікавлений у вивчені ML/AI напрямку, та готовий генерувати ідеї, вивчати інформацію та тренди щодо застосування цих технологій. Наша компанія відкриває набір для заряджених спеціалістів, проактивний та самостійних людей, які мають велике бажання розвиватися у цій ніші. В рамках нашої компанії ми створимо новий стартап на цьому поприщі.Нас цікавить саме створення нових сервісів на основі генеративних моделей. Основна ціль - зробити демо-версії юзкейсів на основі GPT-моделей.Ми міжнародна компанія з розробки ІТ та програмного забезпечення з головним офісом у США. За 6+ років на ринку ми створили стабільну присутність у телекомунікаційному, фінансовому, автомобільному та інших секторах економіки.Досвід:— 1+ рік досвіду програмування на Python.— Володіння або бажання вивчити такі фреймворками, як Pytorch, Tensorflow або Keras та іншими.— Досвід роботи  з Open AI. Вимоги:— Глибоке розуміння екосистеми Python ML (pytorch, tensorflow, numpy, pandas, sklearn, XGBoost тощо)— Глибоке розуміння концепцій і найкращих практик MLOps/AIOps— Досвід роботи з деякими пов’язаними з MLOps платформами/технологіями— Досвід роботи з основними інструментами розробки програмного забезпечення, наприклад, git, CI/CD та загальним об’єктно-орієнтованим дизайном— Досвід або бажання використовувати на практиці ChatGPT або інші AI-based bots— Розуміння основи математичних моделей для ML— Проактивність— Самостійність Що треба буде робити:— Вивчати новітні фреймворки та технології повʼязані з ML/AI— Конструювати різні Proof od Concepts у бажанні знайти нові прикладні області для ChatGPT/OpenAI— Виконувати R&D завдання різної направленості та доменів.Що ми пропонуємо:- Гнучкий графік роботи: 4 годин на день, 20 годин на тиждень. Це додатково залежить від годин роботи проекту. Або 8 годин на день, 40 годин на тиждень.- Ведення бухгалтерського обліку та подання податкових декларацій для всіх приватних підприємців.- Прямі платежі в доларах США на SWIFT (будь-яка юрисдикція), Payoner, Wise, Revolute, PayPal.- Оплачуване зовнішнє навчання, конференції та професійна сертифікація, що відповідає бізнес-цілям компанії.– Ми надаємо такий набір пільг – і відпустки, і оплачувані лікарняні.\n"
          ]
        }
      ]
    },
    {
      "cell_type": "code",
      "source": [
        "prompt = f\"\"\"\n",
        "Write a cover letter with only 200 words in English to recruter {recruiter} using the next instructions:\n",
        "1. Read my CV and job description which are delimited with triple backticks.\n",
        "2. Define company name, project description, responsibilities and requirements for {title} position.\n",
        "3. Determine which technologies and skills are needed in the job description and indicated in the CV.\n",
        "4. Choose the most relevant duties and experience at work and during other projects based on a comparison of those indicated in the vacancy and in the CV.\n",
        "5. Based on previous steps write a cover letter. \\\n",
        "Do not repeate details from CV, summarize a specific story that explains why candidate is right for the role. \\\n",
        "Write in a professional, friendly and upbeat tone. \\\n",
        "Make it short.\n",
        "6. Show only cover letter.\n",
        "CV: '''{cv}'''\n",
        "Job description: '''{vacancy}'''\n",
        "\"\"\"\n",
        "response = get_completion(prompt)\n",
        "print(response)"
      ],
      "metadata": {
        "id": "SFezSdAYQrAu",
        "outputId": "a33d5830-f3bd-4846-aef3-5a1128d56a01",
        "colab": {
          "base_uri": "https://localhost:8080/"
        }
      },
      "execution_count": 48,
      "outputs": [
        {
          "output_type": "stream",
          "name": "stdout",
          "text": [
            "Dear Yulia Chayka,\n",
            "\n",
            "I hope this email finds you well. I recently came across the job posting for the ChatGPT/OpenAI RD Engineer (Data Science) position and I am excited to express my interest in this role.\n",
            "\n",
            "After carefully reviewing my CV and the job description, I believe that my skills and experience align perfectly with the requirements of the position. My background as a Data Scientist, with expertise in statistics, machine learning, and programming, makes me well-suited for this role. I have extensive experience in training predictive models using Python, as well as implementing end-to-end solutions and conducting A/B testing.\n",
            "\n",
            "I possess a strong understanding of the technologies and skills mentioned in the job description, including Python, Pytorch, Tensorflow, and MLOps/AIOps best practices. Additionally, I have experience working with Open AI and have a deep understanding of the Python ML ecosystem.\n",
            "\n",
            "During my previous roles, I have successfully implemented predictive models, collaborated closely with product teams, and achieved optimal model performance in production. My experience in developing comprehensive documentation and my passion for staying up-to-date with the latest industry developments make me a valuable asset to any team.\n",
            "\n",
            "I am confident that my skills and experience make me the right fit for this position. I am eager to contribute to your team and help drive the development of new services based on generative models.\n",
            "\n",
            "Thank you for considering my application. I look forward to the opportunity to discuss how I can contribute to the success of your company.\n",
            "\n",
            "Sincerely,\n",
            "Julia Pikovets\n"
          ]
        }
      ]
    },
    {
      "cell_type": "code",
      "source": [
        "import re\n",
        "filename =\" \".join([\"letter\",title, company,\".txt\"] )\n",
        "filename = re.sub(r'[\\\\/*?:\"<> |]',\"_\",filename)\n",
        "with open(filename, 'a') as f:\n",
        "    f.write('\\n\\n')\n",
        "    f.write(response)"
      ],
      "metadata": {
        "id": "osCRmomuI6P1"
      },
      "execution_count": 49,
      "outputs": []
    }
  ]
}